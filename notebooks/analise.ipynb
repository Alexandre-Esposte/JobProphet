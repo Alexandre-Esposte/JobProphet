{
 "cells": [
  {
   "cell_type": "markdown",
   "metadata": {},
   "source": [
    "**Objetivo do Notebook**: \n",
    "\n",
    "Este notebook apresenta uma análise exploratória voltada para o desenvolvimento de modelos de machine learning, realizada sobre uma base de dados contendo o histórico acadêmico dos alunos.\n",
    "\n",
    "**Objetivo da análise**:\n",
    "\n",
    "O objetivo da análise é proporcionar um entendimento geral dos alunos, permitindo conhecer melhor o conjunto de dados e suas características.\n",
    "\n",
    "Busca-se também a verificação da conformidade da base de dados, identificando a presença de valores faltantes, duplicados, outliers e outras discrepâncias.\n",
    "\n",
    "Este projeto visa desenvolver um modelo de machine learning capaz de estimar a probabilidade de um aluno conseguir emprego a partir de seu histórico escolar. Dessa forma, a análise pretende identificar características que possam auxiliar na criação da pipeline de pré-processamento e no treinamento do modelo. Por exemplo, podem existir vieses nos dados: será que a quantidade de projetos, a participação em workshops e as atividades extracurriculares não carregam vieses que podem \"confundir\" nossos modelos?\n",
    "\n",
    "Assim, buscamos compreender o conjunto de dados para que essa análise contribua para as etapas subsequentes à criação do modelo.\n",
    "\n"
   ]
  },
  {
   "cell_type": "markdown",
   "metadata": {},
   "source": [
    "# Importando bibliotecas"
   ]
  },
  {
   "cell_type": "code",
   "execution_count": null,
   "metadata": {},
   "outputs": [],
   "source": [
    "import pandas as pd\n",
    "import numpy as np\n",
    "import matplotlib.pyplot as plt\n",
    "import seaborn as sns\n",
    "import matplotlib as mpl\n",
    "\n",
    "mpl.rcParams['axes.spines.right'] = False\n",
    "mpl.rcParams['axes.spines.top'] = False\n",
    "mpl.rcParams['figure.figsize'] = 12 , 6\n",
    "\n",
    "nao_colocar_color = '#5a5c69'\n",
    "\n",
    "colocado_color = '#0056b3'"
   ]
  },
  {
   "cell_type": "markdown",
   "metadata": {},
   "source": [
    "# Carregando dados"
   ]
  },
  {
   "cell_type": "code",
   "execution_count": 114,
   "metadata": {},
   "outputs": [],
   "source": [
    "data = pd.read_csv('../data/train.csv')"
   ]
  },
  {
   "cell_type": "markdown",
   "metadata": {},
   "source": [
    "# Conhecendo a base de dados"
   ]
  },
  {
   "cell_type": "code",
   "execution_count": 115,
   "metadata": {},
   "outputs": [
    {
     "data": {
      "text/html": [
       "<div>\n",
       "<style scoped>\n",
       "    .dataframe tbody tr th:only-of-type {\n",
       "        vertical-align: middle;\n",
       "    }\n",
       "\n",
       "    .dataframe tbody tr th {\n",
       "        vertical-align: top;\n",
       "    }\n",
       "\n",
       "    .dataframe thead th {\n",
       "        text-align: right;\n",
       "    }\n",
       "</style>\n",
       "<table border=\"1\" class=\"dataframe\">\n",
       "  <thead>\n",
       "    <tr style=\"text-align: right;\">\n",
       "      <th></th>\n",
       "      <th>cgpa</th>\n",
       "      <th>internships</th>\n",
       "      <th>projects</th>\n",
       "      <th>workshops_certifications</th>\n",
       "      <th>aptitude_test_score</th>\n",
       "      <th>soft_skills_rating</th>\n",
       "      <th>extra_curricular_activities</th>\n",
       "      <th>placement_training</th>\n",
       "      <th>ssc_marks</th>\n",
       "      <th>hsc_marks</th>\n",
       "      <th>n_job_applications</th>\n",
       "      <th>personality_type</th>\n",
       "      <th>placement_status</th>\n",
       "      <th>student_id</th>\n",
       "    </tr>\n",
       "  </thead>\n",
       "  <tbody>\n",
       "    <tr>\n",
       "      <th>0</th>\n",
       "      <td>8.40</td>\n",
       "      <td>2</td>\n",
       "      <td>2</td>\n",
       "      <td>0</td>\n",
       "      <td>74</td>\n",
       "      <td>4.40</td>\n",
       "      <td>Yes</td>\n",
       "      <td>No</td>\n",
       "      <td>79</td>\n",
       "      <td>85</td>\n",
       "      <td>4</td>\n",
       "      <td>2</td>\n",
       "      <td>0</td>\n",
       "      <td>4085</td>\n",
       "    </tr>\n",
       "    <tr>\n",
       "      <th>1</th>\n",
       "      <td>7.60</td>\n",
       "      <td>1</td>\n",
       "      <td>2</td>\n",
       "      <td>1</td>\n",
       "      <td>75</td>\n",
       "      <td>4.30</td>\n",
       "      <td>Yes</td>\n",
       "      <td>Yes</td>\n",
       "      <td>80</td>\n",
       "      <td>67</td>\n",
       "      <td>7</td>\n",
       "      <td>4</td>\n",
       "      <td>1</td>\n",
       "      <td>2992</td>\n",
       "    </tr>\n",
       "    <tr>\n",
       "      <th>2</th>\n",
       "      <td>7.60</td>\n",
       "      <td>1</td>\n",
       "      <td>2</td>\n",
       "      <td>1</td>\n",
       "      <td>61</td>\n",
       "      <td>3.20</td>\n",
       "      <td>No</td>\n",
       "      <td>No</td>\n",
       "      <td>61</td>\n",
       "      <td>57</td>\n",
       "      <td>7</td>\n",
       "      <td>2</td>\n",
       "      <td>0</td>\n",
       "      <td>8623</td>\n",
       "    </tr>\n",
       "    <tr>\n",
       "      <th>3</th>\n",
       "      <td>7.50</td>\n",
       "      <td>1</td>\n",
       "      <td>2</td>\n",
       "      <td>0</td>\n",
       "      <td>78</td>\n",
       "      <td>4.40</td>\n",
       "      <td>Yes</td>\n",
       "      <td>Yes</td>\n",
       "      <td>61</td>\n",
       "      <td>71</td>\n",
       "      <td>7</td>\n",
       "      <td>2</td>\n",
       "      <td>0</td>\n",
       "      <td>8811</td>\n",
       "    </tr>\n",
       "    <tr>\n",
       "      <th>4</th>\n",
       "      <td>8.45</td>\n",
       "      <td>2</td>\n",
       "      <td>3</td>\n",
       "      <td>2</td>\n",
       "      <td>82</td>\n",
       "      <td>4.89</td>\n",
       "      <td>Yes</td>\n",
       "      <td>Yes</td>\n",
       "      <td>75</td>\n",
       "      <td>93</td>\n",
       "      <td>23</td>\n",
       "      <td>3</td>\n",
       "      <td>1</td>\n",
       "      <td>10072</td>\n",
       "    </tr>\n",
       "  </tbody>\n",
       "</table>\n",
       "</div>"
      ],
      "text/plain": [
       "   cgpa  internships  projects  workshops_certifications  aptitude_test_score  \\\n",
       "0  8.40            2         2                         0                   74   \n",
       "1  7.60            1         2                         1                   75   \n",
       "2  7.60            1         2                         1                   61   \n",
       "3  7.50            1         2                         0                   78   \n",
       "4  8.45            2         3                         2                   82   \n",
       "\n",
       "   soft_skills_rating extra_curricular_activities placement_training  \\\n",
       "0                4.40                         Yes                 No   \n",
       "1                4.30                         Yes                Yes   \n",
       "2                3.20                          No                 No   \n",
       "3                4.40                         Yes                Yes   \n",
       "4                4.89                         Yes                Yes   \n",
       "\n",
       "   ssc_marks  hsc_marks  n_job_applications  personality_type  \\\n",
       "0         79         85                   4                 2   \n",
       "1         80         67                   7                 4   \n",
       "2         61         57                   7                 2   \n",
       "3         61         71                   7                 2   \n",
       "4         75         93                  23                 3   \n",
       "\n",
       "   placement_status  student_id  \n",
       "0                 0        4085  \n",
       "1                 1        2992  \n",
       "2                 0        8623  \n",
       "3                 0        8811  \n",
       "4                 1       10072  "
      ]
     },
     "execution_count": 115,
     "metadata": {},
     "output_type": "execute_result"
    }
   ],
   "source": [
    "data.head()"
   ]
  },
  {
   "cell_type": "code",
   "execution_count": 116,
   "metadata": {},
   "outputs": [
    {
     "name": "stdout",
     "output_type": "stream",
     "text": [
      "Há 9200 pessoas com cada uma tendo 14 atributos\n"
     ]
    }
   ],
   "source": [
    "pessoas = data.shape[0]\n",
    "\n",
    "atributos = data.shape[1]\n",
    "\n",
    "print(f\"Há {pessoas} pessoas com cada uma tendo {atributos} atributos\")"
   ]
  },
  {
   "cell_type": "markdown",
   "metadata": {},
   "source": [
    "Aqui vale uma breve observação sobre os atributos e seus respectivos significados:\n",
    "\n",
    "* **cgpa (Cumulative Grade Point Average):**  Média geral das notas alcançadas pelo estudante. \n",
    " \n",
    "      Obs: Talvez possa ser entendido como um coeficiente de rendimento do aluno. Aparentemente, cada instituição pode ter sua maneira de calcular o gpa.\n",
    "* **internships:**  Quantidade de estágios que o estudante realizou.\n",
    "* **projects:** Quantidade de projetos desenvolvidos pelo estudante.\n",
    "* **workshops_certifications:** Quantidade de cursos e certificações realizadas pelo estudante.\n",
    "* **aptitude_test_score:** Nota em testes de aptidão, que avaliam raciocínio lógico e quantitativo. \n",
    "      \n",
    "      Obs: Quanto maior melhor ?\n",
    "* **soft_skills_rating:** Avaliação de habilidades interpessoais e comunicação. \n",
    "\n",
    "      Obs: Quanto maior melhor?\n",
    "* **extra_curricular_activities:**  Indica o nível de participação do estudante em atividades extracurriculares.\n",
    "* **placement_training:** Indica se o estudante participou do treinamento de colocação profissional oferecido pela faculdade.\n",
    "* **ssc_marks (Secondary School Certificate Marks)** Notas do ensino secundário.\n",
    "* **hsc_marks (Higher Secondary certificate Marks):** Notas do Ensino Médio.\n",
    "* **n_job_applications:** Número de vagas que o estudante se candidatou.\n",
    "* **personality_type:** Tipo de personalidade do estudante (variável categórica). \n",
    "\n",
    "      Obs: Apesar de ser representado como um número, essa variável é categórica. Não sabemos o que seria uma personalidade 1,2, 3 e 4. \n",
    "* **placement_status:** Esse é o nosso target, indica se o estudante conseguiu um emprego (1 = colocado, 0 = não colocado).\n",
    "* **Student id:** Identificação única de cada estudante"
   ]
  },
  {
   "cell_type": "markdown",
   "metadata": {},
   "source": [
    "# Verificando a conformidade do dataset"
   ]
  },
  {
   "cell_type": "markdown",
   "metadata": {},
   "source": [
    "Há valores nulos ? \n",
    "\n",
    "R: Não"
   ]
  },
  {
   "cell_type": "code",
   "execution_count": 117,
   "metadata": {},
   "outputs": [
    {
     "name": "stdout",
     "output_type": "stream",
     "text": [
      "Quantidade absoluta de valores nulos: 0\n"
     ]
    }
   ],
   "source": [
    "print(f\"Quantidade absoluta de valores nulos: {data.isna().sum().sum()}\")"
   ]
  },
  {
   "cell_type": "markdown",
   "metadata": {},
   "source": [
    "Há valores duplicados ?\n",
    "\n",
    "R: Não"
   ]
  },
  {
   "cell_type": "code",
   "execution_count": 118,
   "metadata": {},
   "outputs": [
    {
     "name": "stdout",
     "output_type": "stream",
     "text": [
      "Quantidade absoluta de valores duplicados: 0\n"
     ]
    }
   ],
   "source": [
    "print(f\"Quantidade absoluta de valores duplicados: {data.duplicated().sum()}\")"
   ]
  },
  {
   "cell_type": "markdown",
   "metadata": {},
   "source": [
    "O pandas fez a inferência correta dos tipos de cada coluna da base ?\n",
    "\n",
    "R: Aparentemente sim. Como temos poucas colunas, conseguimos visualizar facilmente pelo método .info().\n",
    "\n",
    "Entretanto, há possibilidade de melhorias. O pandas aloca memória além do necessário para as colunas. Por exemplo, todas as colunas do tipo inteiro não vão além do valor 4, mas mesmo assim estão com o tipo int64. \n",
    "\n",
    "O tipo int64 abrange valores de  -9223372036854775808 a 9223372036854775807.\n",
    "\n",
    "Para o nosso dataset, um int8 seria mais do que o suficiente. \n",
    "\n",
    "O tipo int8 abrange valores de -128 a 127.\n",
    "\n",
    "\n",
    "O mesmo é valido para os valores float64. Neste caso, um float16 seria suficiente.\n",
    "\n",
    "Para as colunas do tipo object, poderiamos substituir por categorical.\n",
    "\n",
    "Todas essas melhorias são possíveis, entretanto, o dataset atual ocupa irrisórios 1.7MB. Não precisamos nos preocupar com esses tipos superestimados. Não sofreremos com lentidão e nem com falta de memória."
   ]
  },
  {
   "cell_type": "code",
   "execution_count": 119,
   "metadata": {},
   "outputs": [
    {
     "name": "stdout",
     "output_type": "stream",
     "text": [
      "<class 'pandas.core.frame.DataFrame'>\n",
      "RangeIndex: 9200 entries, 0 to 9199\n",
      "Data columns (total 14 columns):\n",
      " #   Column                       Non-Null Count  Dtype  \n",
      "---  ------                       --------------  -----  \n",
      " 0   cgpa                         9200 non-null   float64\n",
      " 1   internships                  9200 non-null   int64  \n",
      " 2   projects                     9200 non-null   int64  \n",
      " 3   workshops_certifications     9200 non-null   int64  \n",
      " 4   aptitude_test_score          9200 non-null   int64  \n",
      " 5   soft_skills_rating           9200 non-null   float64\n",
      " 6   extra_curricular_activities  9200 non-null   object \n",
      " 7   placement_training           9200 non-null   object \n",
      " 8   ssc_marks                    9200 non-null   int64  \n",
      " 9   hsc_marks                    9200 non-null   int64  \n",
      " 10  n_job_applications           9200 non-null   int64  \n",
      " 11  personality_type             9200 non-null   int64  \n",
      " 12  placement_status             9200 non-null   int64  \n",
      " 13  student_id                   9200 non-null   int64  \n",
      "dtypes: float64(2), int64(10), object(2)\n",
      "memory usage: 1.7 MB\n"
     ]
    }
   ],
   "source": [
    "data.info(memory_usage = 'deep')"
   ]
  },
  {
   "cell_type": "markdown",
   "metadata": {},
   "source": [
    "Há outliers ?\n",
    "\n",
    "R: A principio não.\n",
    "\n",
    "Através do método .describe() podemos ter um boa noção dos intervalos de valores para cada coluna. Inicialemente não encontramos nenhum indicio da presença de outliers. As colunas mais prováveis de encontramos outliers são as do tipo float. Entretanto, isso é esperado, pois sempre há estudantes fora da curva, tanto para cima quanto para baixo."
   ]
  },
  {
   "cell_type": "code",
   "execution_count": 120,
   "metadata": {},
   "outputs": [
    {
     "data": {
      "text/html": [
       "<div>\n",
       "<style scoped>\n",
       "    .dataframe tbody tr th:only-of-type {\n",
       "        vertical-align: middle;\n",
       "    }\n",
       "\n",
       "    .dataframe tbody tr th {\n",
       "        vertical-align: top;\n",
       "    }\n",
       "\n",
       "    .dataframe thead th {\n",
       "        text-align: right;\n",
       "    }\n",
       "</style>\n",
       "<table border=\"1\" class=\"dataframe\">\n",
       "  <thead>\n",
       "    <tr style=\"text-align: right;\">\n",
       "      <th></th>\n",
       "      <th>count</th>\n",
       "      <th>mean</th>\n",
       "      <th>std</th>\n",
       "      <th>min</th>\n",
       "      <th>25%</th>\n",
       "      <th>50%</th>\n",
       "      <th>75%</th>\n",
       "      <th>max</th>\n",
       "    </tr>\n",
       "  </thead>\n",
       "  <tbody>\n",
       "    <tr>\n",
       "      <th>cgpa</th>\n",
       "      <td>9200.0</td>\n",
       "      <td>7.697162</td>\n",
       "      <td>0.644766</td>\n",
       "      <td>5.89</td>\n",
       "      <td>7.40</td>\n",
       "      <td>7.7</td>\n",
       "      <td>8.20</td>\n",
       "      <td>9.43</td>\n",
       "    </tr>\n",
       "    <tr>\n",
       "      <th>internships</th>\n",
       "      <td>9200.0</td>\n",
       "      <td>1.052065</td>\n",
       "      <td>0.666472</td>\n",
       "      <td>0.00</td>\n",
       "      <td>1.00</td>\n",
       "      <td>1.0</td>\n",
       "      <td>1.00</td>\n",
       "      <td>2.00</td>\n",
       "    </tr>\n",
       "    <tr>\n",
       "      <th>projects</th>\n",
       "      <td>9200.0</td>\n",
       "      <td>2.026196</td>\n",
       "      <td>0.868747</td>\n",
       "      <td>0.00</td>\n",
       "      <td>1.00</td>\n",
       "      <td>2.0</td>\n",
       "      <td>3.00</td>\n",
       "      <td>3.00</td>\n",
       "    </tr>\n",
       "    <tr>\n",
       "      <th>workshops_certifications</th>\n",
       "      <td>9200.0</td>\n",
       "      <td>1.016304</td>\n",
       "      <td>0.904360</td>\n",
       "      <td>0.00</td>\n",
       "      <td>0.00</td>\n",
       "      <td>1.0</td>\n",
       "      <td>2.00</td>\n",
       "      <td>3.00</td>\n",
       "    </tr>\n",
       "    <tr>\n",
       "      <th>aptitude_test_score</th>\n",
       "      <td>9200.0</td>\n",
       "      <td>79.448478</td>\n",
       "      <td>8.188742</td>\n",
       "      <td>59.00</td>\n",
       "      <td>73.00</td>\n",
       "      <td>80.0</td>\n",
       "      <td>87.00</td>\n",
       "      <td>96.00</td>\n",
       "    </tr>\n",
       "    <tr>\n",
       "      <th>soft_skills_rating</th>\n",
       "      <td>9200.0</td>\n",
       "      <td>4.324291</td>\n",
       "      <td>0.413076</td>\n",
       "      <td>2.98</td>\n",
       "      <td>4.00</td>\n",
       "      <td>4.4</td>\n",
       "      <td>4.70</td>\n",
       "      <td>5.28</td>\n",
       "    </tr>\n",
       "    <tr>\n",
       "      <th>ssc_marks</th>\n",
       "      <td>9200.0</td>\n",
       "      <td>69.109565</td>\n",
       "      <td>10.446232</td>\n",
       "      <td>50.00</td>\n",
       "      <td>59.00</td>\n",
       "      <td>70.0</td>\n",
       "      <td>78.00</td>\n",
       "      <td>96.00</td>\n",
       "    </tr>\n",
       "    <tr>\n",
       "      <th>hsc_marks</th>\n",
       "      <td>9200.0</td>\n",
       "      <td>74.526630</td>\n",
       "      <td>8.956924</td>\n",
       "      <td>55.00</td>\n",
       "      <td>67.00</td>\n",
       "      <td>73.0</td>\n",
       "      <td>83.00</td>\n",
       "      <td>95.00</td>\n",
       "    </tr>\n",
       "    <tr>\n",
       "      <th>n_job_applications</th>\n",
       "      <td>9200.0</td>\n",
       "      <td>16.537391</td>\n",
       "      <td>8.087944</td>\n",
       "      <td>3.00</td>\n",
       "      <td>10.00</td>\n",
       "      <td>17.0</td>\n",
       "      <td>23.00</td>\n",
       "      <td>33.00</td>\n",
       "    </tr>\n",
       "    <tr>\n",
       "      <th>personality_type</th>\n",
       "      <td>9200.0</td>\n",
       "      <td>2.486413</td>\n",
       "      <td>1.001374</td>\n",
       "      <td>1.00</td>\n",
       "      <td>2.00</td>\n",
       "      <td>2.0</td>\n",
       "      <td>3.00</td>\n",
       "      <td>4.00</td>\n",
       "    </tr>\n",
       "    <tr>\n",
       "      <th>placement_status</th>\n",
       "      <td>9200.0</td>\n",
       "      <td>0.420109</td>\n",
       "      <td>0.493603</td>\n",
       "      <td>0.00</td>\n",
       "      <td>0.00</td>\n",
       "      <td>0.0</td>\n",
       "      <td>1.00</td>\n",
       "      <td>1.00</td>\n",
       "    </tr>\n",
       "    <tr>\n",
       "      <th>student_id</th>\n",
       "      <td>9200.0</td>\n",
       "      <td>5107.175109</td>\n",
       "      <td>2938.655341</td>\n",
       "      <td>2.00</td>\n",
       "      <td>2562.75</td>\n",
       "      <td>5109.5</td>\n",
       "      <td>7634.25</td>\n",
       "      <td>10199.00</td>\n",
       "    </tr>\n",
       "  </tbody>\n",
       "</table>\n",
       "</div>"
      ],
      "text/plain": [
       "                           count         mean          std    min      25%  \\\n",
       "cgpa                      9200.0     7.697162     0.644766   5.89     7.40   \n",
       "internships               9200.0     1.052065     0.666472   0.00     1.00   \n",
       "projects                  9200.0     2.026196     0.868747   0.00     1.00   \n",
       "workshops_certifications  9200.0     1.016304     0.904360   0.00     0.00   \n",
       "aptitude_test_score       9200.0    79.448478     8.188742  59.00    73.00   \n",
       "soft_skills_rating        9200.0     4.324291     0.413076   2.98     4.00   \n",
       "ssc_marks                 9200.0    69.109565    10.446232  50.00    59.00   \n",
       "hsc_marks                 9200.0    74.526630     8.956924  55.00    67.00   \n",
       "n_job_applications        9200.0    16.537391     8.087944   3.00    10.00   \n",
       "personality_type          9200.0     2.486413     1.001374   1.00     2.00   \n",
       "placement_status          9200.0     0.420109     0.493603   0.00     0.00   \n",
       "student_id                9200.0  5107.175109  2938.655341   2.00  2562.75   \n",
       "\n",
       "                             50%      75%       max  \n",
       "cgpa                         7.7     8.20      9.43  \n",
       "internships                  1.0     1.00      2.00  \n",
       "projects                     2.0     3.00      3.00  \n",
       "workshops_certifications     1.0     2.00      3.00  \n",
       "aptitude_test_score         80.0    87.00     96.00  \n",
       "soft_skills_rating           4.4     4.70      5.28  \n",
       "ssc_marks                   70.0    78.00     96.00  \n",
       "hsc_marks                   73.0    83.00     95.00  \n",
       "n_job_applications          17.0    23.00     33.00  \n",
       "personality_type             2.0     3.00      4.00  \n",
       "placement_status             0.0     1.00      1.00  \n",
       "student_id                5109.5  7634.25  10199.00  "
      ]
     },
     "execution_count": 120,
     "metadata": {},
     "output_type": "execute_result"
    }
   ],
   "source": [
    "data.describe().T"
   ]
  },
  {
   "cell_type": "markdown",
   "metadata": {},
   "source": [
    "# EDA\n",
    "\n",
    "A nossa análise exploratória será divida em duas etapas:\n",
    "\n",
    " 1. **Análise univariada:** \n",
    "        Aqui vamos explorar cada variável individualmente, buscando entender seus valores, limites e possíveis inconsitências.\n",
    "\n",
    "2. **Análise multivariada:**\n",
    "        Nessa análise nós vamos explorar as relações entre as multiplas variáveis. Buscamos entender o comportamento conjunto, suas relações com o target e a presença de posiveis viéses.\n"
   ]
  },
  {
   "cell_type": "markdown",
   "metadata": {},
   "source": [
    "## Análise univariada"
   ]
  },
  {
   "cell_type": "markdown",
   "metadata": {},
   "source": [
    "Cada identificação de estudante é única?\n",
    "\n",
    "R: Sim"
   ]
  },
  {
   "cell_type": "code",
   "execution_count": 121,
   "metadata": {},
   "outputs": [
    {
     "data": {
      "text/plain": [
       "np.int64(0)"
      ]
     },
     "execution_count": 121,
     "metadata": {},
     "output_type": "execute_result"
    }
   ],
   "source": [
    "data['student_id'].duplicated().sum()"
   ]
  },
  {
   "cell_type": "markdown",
   "metadata": {},
   "source": [
    "O nosso target (placement_status) apresenta desbalanceamento?\n",
    "\n",
    "R: O nosso target não é exatamente balanceado. Observamos um nível de desbalanceamento leve, aproximadamente 40/60. "
   ]
  },
  {
   "cell_type": "code",
   "execution_count": 154,
   "metadata": {},
   "outputs": [
    {
     "name": "stdout",
     "output_type": "stream",
     "text": [
      "5335 (57.99%) não conseguiram emprego\n",
      "3865 (42.01%) conseguiram emprego\n"
     ]
    }
   ],
   "source": [
    "contagem = data['placement_status'].value_counts()\n",
    "\n",
    "print(f'{contagem[0]} ({contagem[0]/9200*100:.2f}%) não conseguiram emprego\\n'\n",
    "      f'{contagem[1]} ({contagem[1]/9200*100:.2f}%) conseguiram emprego')"
   ]
  },
  {
   "cell_type": "code",
   "execution_count": 156,
   "metadata": {},
   "outputs": [
    {
     "data": {
      "text/plain": [
       "Text(0.5, 1.0, '58% não foram colocados contra 42% colocados')"
      ]
     },
     "execution_count": 156,
     "metadata": {},
     "output_type": "execute_result"
    },
    {
     "data": {
      "image/png": "[encoded data removed]",
      "text/plain": [
       "<Figure size 1200x400 with 1 Axes>"
      ]
     },
     "metadata": {},
     "output_type": "display_data"
    }
   ],
   "source": [
    "plt.bar(x = ['Não colocado' , 'Colocado'], height = [contagem[0]/9200*100, contagem[1]/9200*100], color = [nao_colocar_color,colocado_color])\n",
    "plt.box(False)\n",
    "\n",
    "plt.ylabel('%')\n",
    "plt.text(x = 'Não colocado', y = contagem[0]/9200*100, s = contagem[0], ha = 'center', va = 'bottom', fontweight = 'bold', fontsize = 10)\n",
    "plt.text(x = 'Colocado', y = contagem[1]/9200*100, s = contagem[1], ha= 'center', va = 'bottom', fontweight = 'bold', fontsize = 10)\n",
    "plt.title(\"58% não foram colocados contra 42% colocados\", fontsize=12, fontweight='bold')\n"
   ]
  },
  {
   "cell_type": "markdown",
   "metadata": {},
   "source": [
    "Quais as personalidades dos alunos? Há mais personalidades do que outras?\n",
    "\n",
    "R: Observamos 4 tipos de personalidades diferentes. As personalidades estão numeradas de 1 a 4.\n",
    "\n",
    "Sim, há personalidades mais populares que outras.\n",
    "\n"
   ]
  },
  {
   "cell_type": "code",
   "execution_count": 170,
   "metadata": {},
   "outputs": [
    {
     "name": "stdout",
     "output_type": "stream",
     "text": [
      "2 4579\n",
      "4 2260\n",
      "1 1203\n",
      "3 1158\n"
     ]
    },
    {
     "data": {
      "image/png": "[encoded data removed]",
      "text/plain": [
       "<Figure size 1200x400 with 1 Axes>"
      ]
     },
     "metadata": {},
     "output_type": "display_data"
    }
   ],
   "source": [
    "contagem = data['personality_type'].value_counts()\n",
    "cores = ['#0D3B66', '#186FAF', '#69A3D8', '#A7CCE9']\n",
    "plt.bar(contagem.index, height=contagem.values/9200 *100, color = cores )\n",
    "plt.xticks([1,2,3,4])\n",
    "plt.box(False)\n",
    "\n",
    "for i,value in contagem.items():\n",
    "    print(i, value)\n",
    "    plt.text(x = i, y = value/9200*100, s = f\"{value/9200 *100:.2f}%\", ha = 'center', va = 'bottom', fontweight = 'bold')"
   ]
  },
  {
   "cell_type": "markdown",
   "metadata": {},
   "source": [
    "Qual distribuição o número de aplicações segue? \n",
    "\n",
    "R: Aparentemente segue uma distribuição uniforme. Não há valores discrepantes. "
   ]
  },
  {
   "cell_type": "code",
   "execution_count": 217,
   "metadata": {},
   "outputs": [
    {
     "data": {
      "text/plain": [
       "Text(0, 0.5, 'Densidade')"
      ]
     },
     "execution_count": 217,
     "metadata": {},
     "output_type": "execute_result"
    },
    {
     "data": {
      "image/png": "[encoded data removed]",
      "text/plain": [
       "<Figure size 1200x400 with 1 Axes>"
      ]
     },
     "metadata": {},
     "output_type": "display_data"
    }
   ],
   "source": [
    "sns.histplot(data = data, x='n_job_applications', bins = 15, stat = 'density')\n",
    "\n",
    "plt.xlabel('Número de aplicações')\n",
    "plt.ylabel('Densidade')"
   ]
  },
  {
   "cell_type": "code",
   "execution_count": 125,
   "metadata": {},
   "outputs": [
    {
     "data": {
      "text/html": [
       "<div>\n",
       "<style scoped>\n",
       "    .dataframe tbody tr th:only-of-type {\n",
       "        vertical-align: middle;\n",
       "    }\n",
       "\n",
       "    .dataframe tbody tr th {\n",
       "        vertical-align: top;\n",
       "    }\n",
       "\n",
       "    .dataframe thead th {\n",
       "        text-align: right;\n",
       "    }\n",
       "</style>\n",
       "<table border=\"1\" class=\"dataframe\">\n",
       "  <thead>\n",
       "    <tr style=\"text-align: right;\">\n",
       "      <th></th>\n",
       "      <th>cgpa</th>\n",
       "      <th>internships</th>\n",
       "      <th>projects</th>\n",
       "      <th>workshops_certifications</th>\n",
       "      <th>aptitude_test_score</th>\n",
       "      <th>soft_skills_rating</th>\n",
       "      <th>extra_curricular_activities</th>\n",
       "      <th>placement_training</th>\n",
       "      <th>ssc_marks</th>\n",
       "      <th>hsc_marks</th>\n",
       "      <th>n_job_applications</th>\n",
       "      <th>personality_type</th>\n",
       "      <th>placement_status</th>\n",
       "      <th>student_id</th>\n",
       "    </tr>\n",
       "  </thead>\n",
       "  <tbody>\n",
       "    <tr>\n",
       "      <th>0</th>\n",
       "      <td>8.4</td>\n",
       "      <td>2</td>\n",
       "      <td>2</td>\n",
       "      <td>0</td>\n",
       "      <td>74</td>\n",
       "      <td>4.4</td>\n",
       "      <td>Yes</td>\n",
       "      <td>No</td>\n",
       "      <td>79</td>\n",
       "      <td>85</td>\n",
       "      <td>4</td>\n",
       "      <td>2</td>\n",
       "      <td>0</td>\n",
       "      <td>4085</td>\n",
       "    </tr>\n",
       "    <tr>\n",
       "      <th>1</th>\n",
       "      <td>7.6</td>\n",
       "      <td>1</td>\n",
       "      <td>2</td>\n",
       "      <td>1</td>\n",
       "      <td>75</td>\n",
       "      <td>4.3</td>\n",
       "      <td>Yes</td>\n",
       "      <td>Yes</td>\n",
       "      <td>80</td>\n",
       "      <td>67</td>\n",
       "      <td>7</td>\n",
       "      <td>4</td>\n",
       "      <td>1</td>\n",
       "      <td>2992</td>\n",
       "    </tr>\n",
       "  </tbody>\n",
       "</table>\n",
       "</div>"
      ],
      "text/plain": [
       "   cgpa  internships  projects  workshops_certifications  aptitude_test_score  \\\n",
       "0   8.4            2         2                         0                   74   \n",
       "1   7.6            1         2                         1                   75   \n",
       "\n",
       "   soft_skills_rating extra_curricular_activities placement_training  \\\n",
       "0                 4.4                         Yes                 No   \n",
       "1                 4.3                         Yes                Yes   \n",
       "\n",
       "   ssc_marks  hsc_marks  n_job_applications  personality_type  \\\n",
       "0         79         85                   4                 2   \n",
       "1         80         67                   7                 4   \n",
       "\n",
       "   placement_status  student_id  \n",
       "0                 0        4085  \n",
       "1                 1        2992  "
      ]
     },
     "execution_count": 125,
     "metadata": {},
     "output_type": "execute_result"
    }
   ],
   "source": [
    "data.head(2)"
   ]
  }
 ],
 "metadata": {
  "kernelspec": {
   "display_name": ".venv",
   "language": "python",
   "name": "python3"
  },
  "language_info": {
   "codemirror_mode": {
    "name": "ipython",
    "version": 3
   },
   "file_extension": ".py",
   "mimetype": "text/x-python",
   "name": "python",
   "nbconvert_exporter": "python",
   "pygments_lexer": "ipython3",
   "version": "3.12.9"
  }
 },
 "nbformat": 4,
 "nbformat_minor": 2
}
